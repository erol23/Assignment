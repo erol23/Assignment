{
 "cells": [
  {
   "cell_type": "code",
   "execution_count": 1,
   "metadata": {},
   "outputs": [
    {
     "name": "stdout",
     "output_type": "stream",
     "text": [
      "['S', 'W', 'A', 'Y'], 4\n"
     ]
    }
   ],
   "source": [
    "my_list = [['C', 'L'], ['A', 'R', 'U'], ['S', 'W', 'A', 'Y']]\n",
    "longest_elmn = max(my_list)\n",
    "lenght_elmn = max(map(lambda x: len(x), my_list))\n",
    "print(f\"{longest_elmn}, {lenght_elmn}\")"
   ]
  },
  {
   "cell_type": "code",
   "execution_count": 2,
   "metadata": {},
   "outputs": [],
   "source": [
    "def divisible(x,y):\n",
    "    if y == 0:\n",
    "        return \"error\"\n",
    "    else:\n",
    "        if y % x == 0:\n",
    "            return \"divisible\"\n",
    "        else:\n",
    "            return \"not divisible\""
   ]
  },
  {
   "cell_type": "code",
   "execution_count": 3,
   "metadata": {},
   "outputs": [
    {
     "name": "stdout",
     "output_type": "stream",
     "text": [
      "error\n"
     ]
    }
   ],
   "source": [
    "print(divisible(15,0))"
   ]
  },
  {
   "cell_type": "code",
   "execution_count": null,
   "metadata": {},
   "outputs": [],
   "source": []
  }
 ],
 "metadata": {
  "kernelspec": {
   "display_name": "Python 3",
   "language": "python",
   "name": "python3"
  },
  "language_info": {
   "codemirror_mode": {
    "name": "ipython",
    "version": 3
   },
   "file_extension": ".py",
   "mimetype": "text/x-python",
   "name": "python",
   "nbconvert_exporter": "python",
   "pygments_lexer": "ipython3",
   "version": "3.7.6"
  }
 },
 "nbformat": 4,
 "nbformat_minor": 4
}
