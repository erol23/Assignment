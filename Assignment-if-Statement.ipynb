{
 "cells": [
  {
   "cell_type": "code",
   "execution_count": 9,
   "metadata": {},
   "outputs": [
    {
     "name": "stdout",
     "output_type": "stream",
     "text": [
      "Enter your name : Mehmet\n",
      "Hello, Mehmet! The password is :1234\n"
     ]
    }
   ],
   "source": [
    "name = \"Mehmet\"\n",
    "Password = 1234\n",
    "first_name = input(\"Enter your name : \").capitalize()\n",
    "\n",
    "if name == first_name:\n",
    "    print(f\"Hello, {first_name}! The password is :{Password}\")\n",
    "else:\n",
    "    print(f\"Hello, {first_name}! See you later.\")"
   ]
  },
  {
   "cell_type": "code",
   "execution_count": null,
   "metadata": {},
   "outputs": [],
   "source": []
  }
 ],
 "metadata": {
  "kernelspec": {
   "display_name": "Python 3",
   "language": "python",
   "name": "python3"
  },
  "language_info": {
   "codemirror_mode": {
    "name": "ipython",
    "version": 3
   },
   "file_extension": ".py",
   "mimetype": "text/x-python",
   "name": "python",
   "nbconvert_exporter": "python",
   "pygments_lexer": "ipython3",
   "version": "3.7.6"
  }
 },
 "nbformat": 4,
 "nbformat_minor": 4
}
