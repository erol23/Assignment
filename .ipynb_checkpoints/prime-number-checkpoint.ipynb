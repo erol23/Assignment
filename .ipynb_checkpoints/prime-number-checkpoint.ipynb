{
 "cells": [
  {
   "cell_type": "code",
   "execution_count": 10,
   "metadata": {},
   "outputs": [
    {
     "name": "stdout",
     "output_type": "stream",
     "text": [
      "Enter a number :7\n",
      "7 is a prime number\n"
     ]
    }
   ],
   "source": [
    "number = input(\"Enter a number :\")\n",
    "\n",
    "if number.isnumeric():\n",
    "    number = int(number)\n",
    "    if number > 1:\n",
    "        for i in range(2, number):\n",
    "            if number % i == 0:\n",
    "                print(number, \"isn't a prime number\")\n",
    "                break\n",
    "            else:\n",
    "                print(number, \"is a prime number\")\n",
    "                break\n",
    "    else:\n",
    "        print(number, \"isn't a prime number\")\n",
    "else:\n",
    "    print(\"Please enter a positive number\")"
   ]
  },
  {
   "cell_type": "code",
   "execution_count": null,
   "metadata": {},
   "outputs": [],
   "source": []
  },
  {
   "cell_type": "code",
   "execution_count": null,
   "metadata": {},
   "outputs": [],
   "source": []
  }
 ],
 "metadata": {
  "kernelspec": {
   "display_name": "Python 3",
   "language": "python",
   "name": "python3"
  }
 },
 "nbformat": 4,
 "nbformat_minor": 4
}
