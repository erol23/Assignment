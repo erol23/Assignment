{
 "cells": [
  {
   "cell_type": "code",
   "execution_count": 1,
   "metadata": {},
   "outputs": [
    {
     "name": "stdout",
     "output_type": "stream",
     "text": [
      "2020 is a leap year\n"
     ]
    }
   ],
   "source": [
    "def year(x):\n",
    "    if x % 100 == 0:\n",
    "        if x % 400 == 0:\n",
    "            print(x, \"is a leap year\")\n",
    "        else:\n",
    "            print(x, \"isn't a leap year\")\n",
    "    elif x % 4 == 0:\n",
    "        print(x, \"is a leap year\")\n",
    "    else:\n",
    "        print(x, \"isn't a leap year\")\n",
    "        \n",
    "year(2020)"
   ]
  },
  {
   "cell_type": "code",
   "execution_count": null,
   "metadata": {},
   "outputs": [],
   "source": []
  }
 ],
 "metadata": {
  "kernelspec": {
   "display_name": "Python 3",
   "language": "python",
   "name": "python3"
  },
  "language_info": {
   "codemirror_mode": {
    "name": "ipython",
    "version": 3
   },
   "file_extension": ".py",
   "mimetype": "text/x-python",
   "name": "python",
   "nbconvert_exporter": "python",
   "pygments_lexer": "ipython3",
   "version": "3.7.6"
  }
 },
 "nbformat": 4,
 "nbformat_minor": 4
}
