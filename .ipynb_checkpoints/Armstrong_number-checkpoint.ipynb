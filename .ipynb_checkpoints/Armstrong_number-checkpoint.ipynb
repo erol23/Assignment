{
 "cells": [
  {
   "cell_type": "code",
   "execution_count": 4,
   "metadata": {},
   "outputs": [
    {
     "name": "stdout",
     "output_type": "stream",
     "text": [
      "Enter a number :954\n",
      "954 is not an Armstrong number\n"
     ]
    }
   ],
   "source": [
    "number = input(\"Enter a number :\")\n",
    "x = list(number)\n",
    "for i in x:\n",
    "    y = int(i)**len(x)\n",
    "    if y == int(number):\n",
    "        print(number, \"is an Armstrong number\")\n",
    "    else:\n",
    "        print(number, \"is not an Armstrong number\")\n",
    "    break"
   ]
  },
  {
   "cell_type": "code",
   "execution_count": null,
   "metadata": {},
   "outputs": [],
   "source": []
  }
 ],
 "metadata": {
  "kernelspec": {
   "display_name": "Python 3",
   "language": "python",
   "name": "python3"
  },
  "language_info": {
   "codemirror_mode": {
    "name": "ipython",
    "version": 3
   },
   "file_extension": ".py",
   "mimetype": "text/x-python",
   "name": "python",
   "nbconvert_exporter": "python",
   "pygments_lexer": "ipython3",
   "version": "3.7.6"
  }
 },
 "nbformat": 4,
 "nbformat_minor": 4
}
